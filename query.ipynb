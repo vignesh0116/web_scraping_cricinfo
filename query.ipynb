{
 "cells": [
  {
   "cell_type": "code",
   "execution_count": 1,
   "id": "3f0aaede-899d-40ad-9789-ad52d1740dc2",
   "metadata": {},
   "outputs": [],
   "source": [
    "import pandas as pd\n",
    "import numpy as np\n",
    "import matplotlib.pyplot as plt\n",
    "import scipy.stats as st\n",
    "from scipy import stats\n"
   ]
  },
  {
   "cell_type": "code",
   "execution_count": 2,
   "id": "c82f4b62-6d66-41d4-a0dc-76632b6bf230",
   "metadata": {},
   "outputs": [],
   "source": [
    "ipldata = pd.read_csv('IPL2023details.csv')\n",
    "bat1 = pd.read_csv('batting1.csv')\n",
    "bat2 = pd.read_csv('batting2.csv')\n",
    "bowl1 = pd.read_csv('Bowling1.csv')\n",
    "bowl2 = pd.read_csv('Bowling2.csv')"
   ]
  },
  {
   "cell_type": "code",
   "execution_count": 3,
   "id": "7227c33b-0d90-4d25-8881-01d87bc622b1",
   "metadata": {},
   "outputs": [],
   "source": [
    "iplbat1 = ipldata[['First_innings','counter']]\n",
    "iplbat2 = ipldata[['second_innings','counter']]"
   ]
  },
  {
   "cell_type": "code",
   "execution_count": 4,
   "id": "ebc0ab07-8da8-46be-b34d-d04d5bbb735e",
   "metadata": {},
   "outputs": [],
   "source": [
    "dfbat1 = pd.merge(bat1,ipldata[['First_innings','counter']],how = 'inner',on = ['counter'])\n",
    "dfbat2 = pd.merge(bat2,ipldata[['second_innings','counter']],how = 'inner',on = ['counter'])\n",
    "dfbowl1 = pd.merge(bowl1,ipldata[['second_innings','counter']],how = 'inner',on = ['counter'])\n",
    "dfbowl2 = pd.merge(bowl2,ipldata[['First_innings','counter']],how = 'inner',on = ['counter'])\n",
    "dfbat1.rename(columns={'First_innings':'bat_team'},inplace=True)\n",
    "dfbat2.rename(columns={'second_innings':'bat_team'},inplace=True)\n",
    "dfbowl2.rename(columns={'First_innings':'bowl_team'},inplace=True)\n",
    "dfbowl1.rename(columns={'second_innings':'bowl_team'},inplace=True)\n",
    "bat = pd.concat([dfbat1,dfbat2],axis=0)\n",
    "bowl = pd.concat([dfbowl1,dfbowl2],axis=0)\n",
    "dfbat = pd.merge(bat,ipldata,how = 'inner',on = ['counter'])\n",
    "dfbowl = pd.merge(bowl,ipldata,how = 'inner',on = ['counter'])\n"
   ]
  },
  {
   "cell_type": "code",
   "execution_count": 6,
   "id": "6e395326-a95d-408b-9156-6774237e1174",
   "metadata": {},
   "outputs": [],
   "source": [
    "dfbat.to_csv('batipldata.csv',header=dfbat.columns, index=False, encoding='utf-8' )\n",
    "dfbowl.to_csv('bowipldata.csv',header=dfbowl.columns, index=False, encoding='utf-8' )"
   ]
  },
  {
   "cell_type": "code",
   "execution_count": 8,
   "id": "fea424e9-6d33-4284-afde-0020815123d6",
   "metadata": {},
   "outputs": [],
   "source": [
    "teambat1 = dfbat.loc[dfbat['bat_team'] == 'Punjab Kings']\n",
    "teambat2 = dfbat.loc[dfbat['bat_team'] == 'Lucknow Super Giants']\n",
    "teambowl1 = dfbowl.loc[dfbowl['bowl_team'] == 'Lucknow Super Giants']\n",
    "teambowl2 = dfbowl.loc[dfbowl['bowl_team'] == 'Punjab Kings']\n",
    "team1 = teambat1[['out','Date']]\n",
    "team2 = teambat2[['out','Date']]"
   ]
  },
  {
   "cell_type": "code",
   "execution_count": 9,
   "id": "ecb352bb-dcf2-4977-9712-c56cf73f40a2",
   "metadata": {},
   "outputs": [
    {
     "data": {
      "text/plain": [
       "'Punjab Kings'"
      ]
     },
     "execution_count": 9,
     "metadata": {},
     "output_type": "execute_result"
    }
   ],
   "source": [
    "teambat1['bat_team'].iloc[1]"
   ]
  },
  {
   "cell_type": "code",
   "execution_count": 10,
   "id": "b64bdac6-b366-4973-86eb-6a480c70a485",
   "metadata": {},
   "outputs": [
    {
     "data": {
      "text/plain": [
       "7"
      ]
     },
     "execution_count": 10,
     "metadata": {},
     "output_type": "execute_result"
    }
   ],
   "source": [
    "teambat1['counter'].value_counts().count()"
   ]
  },
  {
   "cell_type": "code",
   "execution_count": 11,
   "id": "41b51d11-e442-4ecf-af56-b9a8b098b3ab",
   "metadata": {},
   "outputs": [],
   "source": [
    "total_bowl_team1 = teambowl1.groupby(['Date']).sum()[['Runs','Wicket','Zeros','fours','sixs','Wide','Noball']]\n",
    "total_bowl_team2 = teambowl2.groupby(['Date']).sum()[['Runs','Wicket','Zeros','fours','sixs','Wide','Noball']]"
   ]
  },
  {
   "cell_type": "code",
   "execution_count": 12,
   "id": "d62e2437-f789-469d-82a0-ba64c355ae7b",
   "metadata": {
    "tags": []
   },
   "outputs": [],
   "source": [
    "total_bat_team1 = teambat1.groupby(['Date']).sum()[['runs','fours','sixs']]\n",
    "total_bat_team2 = teambat2.groupby(['Date']).sum()[['runs','fours','sixs']]\n"
   ]
  },
  {
   "cell_type": "code",
   "execution_count": 13,
   "id": "87bcb326-8523-493d-9458-9cc16bf8d5ce",
   "metadata": {},
   "outputs": [],
   "source": [
    "caught = team1.loc[team1['out'].str.startswith('c ')].groupby(['Date']).count()\n",
    "caught.rename(columns={'out':'caught1'},inplace=True)\n",
    "runout = team1.loc[team1['out'].str.startswith('run ')].groupby(['Date']).count()\n",
    "runout.rename(columns={'out':'runout1'},inplace=True)\n",
    "lbw = team1.loc[team1['out'].str.startswith('lbw ')].groupby(['Date']).count()\n",
    "lbw.rename(columns={'out':'lbw1'},inplace=True)\n",
    "bowled = team1.loc[team1['out'].str.startswith('b ')].groupby(['Date']).count()\n",
    "bowled.rename(columns={'out':'bowled1'},inplace=True)\n",
    "stumping = team1.loc[team1['out'].str.startswith('st ')].groupby(['Date']).count()\n",
    "stumping.rename(columns={'out':'stumping1'},inplace=True)\n",
    "notout = team1.loc[team1['out'].str.startswith('not ')].groupby(['Date']).count()\n",
    "notout.rename(columns={'out':'notout1'},inplace=True)\n",
    "df_out_team1 = pd.concat([notout,caught,bowled,runout,lbw,stumping],axis=1).fillna(0)"
   ]
  },
  {
   "cell_type": "code",
   "execution_count": 14,
   "id": "7b2ffb05-112a-47b2-8cc0-485747fda31d",
   "metadata": {},
   "outputs": [],
   "source": [
    "caught = team2.loc[team2['out'].str.startswith('c ')].groupby(['Date']).count()\n",
    "caught.rename(columns={'out':'caught2'},inplace=True)\n",
    "runout = team2.loc[team2['out'].str.startswith('run ')].groupby(['Date']).count()\n",
    "runout.rename(columns={'out':'runout2'},inplace=True)\n",
    "lbw = team2.loc[team2['out'].str.startswith('lbw ')].groupby(['Date']).count()\n",
    "lbw.rename(columns={'out':'lbw2'},inplace=True)\n",
    "bowled = team2.loc[team2['out'].str.startswith('b ')].groupby(['Date']).count()\n",
    "bowled.rename(columns={'out':'bowled2'},inplace=True)\n",
    "stumping = team2.loc[team2['out'].str.startswith('st ')].groupby(['Date']).count()\n",
    "stumping.rename(columns={'out':'stumping2'},inplace=True)\n",
    "notout = team2.loc[team2['out'].str.startswith('not ')].groupby(['Date']).count()\n",
    "notout.rename(columns={'out':'notout2'},inplace=True)\n",
    "df_out_team2 = pd.concat([notout,caught,bowled,runout,lbw,stumping],axis=1).fillna(0)"
   ]
  },
  {
   "cell_type": "code",
   "execution_count": 15,
   "id": "7b3dbdbf-9bcb-4d7c-a4b8-f9b78b2ce341",
   "metadata": {},
   "outputs": [],
   "source": [
    "def ciinterval(df,a):\n",
    "    for col in df.columns:\n",
    "        mean = df[col].mean()\n",
    "        std = df[col].std()\n",
    "        n = len(df[col])\n",
    "        se = std / np.sqrt(n)\n",
    "        ci = stats.t.interval(a, n - 1, loc=mean, scale=se)\n",
    "        print(f\"Column {col} has a confidence interval of {ci}\")"
   ]
  },
  {
   "cell_type": "code",
   "execution_count": 16,
   "id": "65083fad-4a4e-45a3-9f9e-572a294ab9c2",
   "metadata": {},
   "outputs": [],
   "source": [
    "# total_bowl_team1\n",
    "# total_bowl_team2\n",
    "# total_bat_team1\n",
    "# total_bat_team2\n",
    "# df_out_team1\n",
    "# # df_out_team2"
   ]
  },
  {
   "cell_type": "code",
   "execution_count": 17,
   "id": "c44cac26-afdd-43c8-af14-d0a121e7bd3d",
   "metadata": {},
   "outputs": [
    {
     "name": "stdout",
     "output_type": "stream",
     "text": [
      "Column runs has a confidence interval of (140.47306500555015, 189.24122070873557)\n",
      "Column fours has a confidence interval of (12.803626743245452, 18.624944685325975)\n",
      "Column sixs has a confidence interval of (5.246225525611521, 11.039488760102763)\n"
     ]
    }
   ],
   "source": [
    "ciinterval(total_bat_team1,0.95)"
   ]
  },
  {
   "cell_type": "code",
   "execution_count": 18,
   "id": "f460d812-f675-4858-8471-5948966d22e8",
   "metadata": {},
   "outputs": [
    {
     "name": "stdout",
     "output_type": "stream",
     "text": [
      "Column notout1 has a confidence interval of (1.0770777253581973, 2.0657794174989457)\n",
      "Column caught1 has a confidence interval of (1.7327801095653903, 5.410077033291753)\n",
      "Column bowled1 has a confidence interval of (0.7334684136817826, 2.980817300603932)\n",
      "Column runout1 has a confidence interval of (-0.1654180636228305, 1.5939894921942592)\n",
      "Column lbw1 has a confidence interval of (-0.41272521458316147, 2.4127252145831615)\n",
      "Column stumping1 has a confidence interval of (-0.16556423047656094, 0.7369928019051324)\n"
     ]
    }
   ],
   "source": [
    "ciinterval(df_out_team1,0.95)"
   ]
  },
  {
   "cell_type": "code",
   "execution_count": 19,
   "id": "d7e43b99-66df-43c5-9147-2141537289db",
   "metadata": {},
   "outputs": [
    {
     "name": "stdout",
     "output_type": "stream",
     "text": [
      "Column Runs has a confidence interval of (125.66146091196613, 190.62425337374816)\n",
      "Column Wicket has a confidence interval of (4.169030421303006, 8.402398150125565)\n",
      "Column Zeros has a confidence interval of (39.53124027171255, 53.32590258543031)\n",
      "Column fours has a confidence interval of (10.385388626790988, 15.328897087494727)\n",
      "Column sixs has a confidence interval of (1.9469388013816404, 11.48163262718979)\n",
      "Column Wide has a confidence interval of (1.3114704064021347, 4.688529593597865)\n",
      "Column Noball has a confidence interval of (-0.06577941749894545, 0.9229222746418025)\n"
     ]
    }
   ],
   "source": [
    "ciinterval(total_bowl_team1,0.95)"
   ]
  },
  {
   "cell_type": "code",
   "execution_count": 20,
   "id": "892dfa8a-71f6-4531-8a18-6d4a67e23d25",
   "metadata": {},
   "outputs": [],
   "source": [
    "# -------------------Second - innings--------------"
   ]
  },
  {
   "cell_type": "code",
   "execution_count": 21,
   "id": "b62f2290-a87c-442c-9c05-db23b195fd3f",
   "metadata": {},
   "outputs": [
    {
     "name": "stdout",
     "output_type": "stream",
     "text": [
      "Column runs has a confidence interval of (126.388300760261, 187.89741352545326)\n",
      "Column fours has a confidence interval of (8.665421235751431, 15.334578764248569)\n",
      "Column sixs has a confidence interval of (2.8902975765434293, 12.252559566313714)\n"
     ]
    }
   ],
   "source": [
    "ciinterval(total_bat_team2,0.95)"
   ]
  },
  {
   "cell_type": "code",
   "execution_count": 22,
   "id": "116f7f93-0c1c-43be-8b9e-6e1f8b7a52d9",
   "metadata": {},
   "outputs": [
    {
     "name": "stdout",
     "output_type": "stream",
     "text": [
      "Column notout2 has a confidence interval of (1.5075840216011887, 2.206701692684526)\n",
      "Column caught2 has a confidence interval of (3.138037621522386, 6.290533807049043)\n",
      "Column bowled2 has a confidence interval of (0.24486660933901594, 1.755133390660984)\n",
      "Column runout2 has a confidence interval of (-0.3311284609531219, 1.4739856038102648)\n",
      "Column lbw2 has a confidence interval of (-0.29909331418863655, 1.1562361713314937)\n",
      "Column stumping2 has a confidence interval of (-0.20670169268452576, 0.49241597839881146)\n"
     ]
    }
   ],
   "source": [
    "ciinterval(df_out_team2,0.95)"
   ]
  },
  {
   "cell_type": "code",
   "execution_count": 23,
   "id": "e6d4fe42-16e7-4182-88ce-1cb9ca8057dc",
   "metadata": {},
   "outputs": [
    {
     "name": "stdout",
     "output_type": "stream",
     "text": [
      "Column Runs has a confidence interval of (141.93477848295998, 185.49379294561146)\n",
      "Column Wicket has a confidence interval of (3.381768140120262, 7.189660431308309)\n",
      "Column Zeros has a confidence interval of (34.95787234848985, 43.32784193722444)\n",
      "Column fours has a confidence interval of (11.418087822398352, 18.581912177601648)\n",
      "Column sixs has a confidence interval of (3.0065617432939478, 9.564866828134623)\n",
      "Column Wide has a confidence interval of (0.23626801422848498, 4.620874842914372)\n",
      "Column Noball has a confidence interval of (-0.1562361713314937, 1.2990933141886365)\n"
     ]
    }
   ],
   "source": [
    "ciinterval(total_bowl_team2,0.95)"
   ]
  },
  {
   "cell_type": "code",
   "execution_count": 23,
   "id": "bb153d27-06ff-4961-9c88-45c3f9ecb94b",
   "metadata": {},
   "outputs": [
    {
     "data": {
      "text/html": [
       "<div>\n",
       "<style scoped>\n",
       "    .dataframe tbody tr th:only-of-type {\n",
       "        vertical-align: middle;\n",
       "    }\n",
       "\n",
       "    .dataframe tbody tr th {\n",
       "        vertical-align: top;\n",
       "    }\n",
       "\n",
       "    .dataframe thead th {\n",
       "        text-align: right;\n",
       "    }\n",
       "</style>\n",
       "<table border=\"1\" class=\"dataframe\">\n",
       "  <thead>\n",
       "    <tr style=\"text-align: right;\">\n",
       "      <th></th>\n",
       "      <th>runs</th>\n",
       "      <th>fours</th>\n",
       "      <th>sixs</th>\n",
       "    </tr>\n",
       "  </thead>\n",
       "  <tbody>\n",
       "    <tr>\n",
       "      <th>count</th>\n",
       "      <td>7.000000</td>\n",
       "      <td>7.000000</td>\n",
       "      <td>7.000000</td>\n",
       "    </tr>\n",
       "    <tr>\n",
       "      <th>mean</th>\n",
       "      <td>173.428571</td>\n",
       "      <td>15.571429</td>\n",
       "      <td>8.142857</td>\n",
       "    </tr>\n",
       "    <tr>\n",
       "      <th>std</th>\n",
       "      <td>21.298334</td>\n",
       "      <td>5.094348</td>\n",
       "      <td>3.532165</td>\n",
       "    </tr>\n",
       "    <tr>\n",
       "      <th>min</th>\n",
       "      <td>132.000000</td>\n",
       "      <td>10.000000</td>\n",
       "      <td>4.000000</td>\n",
       "    </tr>\n",
       "    <tr>\n",
       "      <th>25%</th>\n",
       "      <td>168.000000</td>\n",
       "      <td>12.000000</td>\n",
       "      <td>6.500000</td>\n",
       "    </tr>\n",
       "    <tr>\n",
       "      <th>50%</th>\n",
       "      <td>176.000000</td>\n",
       "      <td>13.000000</td>\n",
       "      <td>7.000000</td>\n",
       "    </tr>\n",
       "    <tr>\n",
       "      <th>75%</th>\n",
       "      <td>187.500000</td>\n",
       "      <td>19.500000</td>\n",
       "      <td>9.000000</td>\n",
       "    </tr>\n",
       "    <tr>\n",
       "      <th>max</th>\n",
       "      <td>195.000000</td>\n",
       "      <td>23.000000</td>\n",
       "      <td>15.000000</td>\n",
       "    </tr>\n",
       "  </tbody>\n",
       "</table>\n",
       "</div>"
      ],
      "text/plain": [
       "             runs      fours       sixs\n",
       "count    7.000000   7.000000   7.000000\n",
       "mean   173.428571  15.571429   8.142857\n",
       "std     21.298334   5.094348   3.532165\n",
       "min    132.000000  10.000000   4.000000\n",
       "25%    168.000000  12.000000   6.500000\n",
       "50%    176.000000  13.000000   7.000000\n",
       "75%    187.500000  19.500000   9.000000\n",
       "max    195.000000  23.000000  15.000000"
      ]
     },
     "execution_count": 23,
     "metadata": {},
     "output_type": "execute_result"
    }
   ],
   "source": [
    "total_bat_team1.describe()"
   ]
  },
  {
   "cell_type": "code",
   "execution_count": 27,
   "id": "d38dc1d0-c283-407e-95b3-0ef415fa5359",
   "metadata": {},
   "outputs": [
    {
     "data": {
      "text/html": [
       "<div>\n",
       "<style scoped>\n",
       "    .dataframe tbody tr th:only-of-type {\n",
       "        vertical-align: middle;\n",
       "    }\n",
       "\n",
       "    .dataframe tbody tr th {\n",
       "        vertical-align: top;\n",
       "    }\n",
       "\n",
       "    .dataframe thead th {\n",
       "        text-align: right;\n",
       "    }\n",
       "</style>\n",
       "<table border=\"1\" class=\"dataframe\">\n",
       "  <thead>\n",
       "    <tr style=\"text-align: right;\">\n",
       "      <th></th>\n",
       "      <th>notout1</th>\n",
       "      <th>caught1</th>\n",
       "      <th>bowled1</th>\n",
       "      <th>runout1</th>\n",
       "      <th>lbw1</th>\n",
       "      <th>stumping1</th>\n",
       "    </tr>\n",
       "  </thead>\n",
       "  <tbody>\n",
       "    <tr>\n",
       "      <th>count</th>\n",
       "      <td>6.000000</td>\n",
       "      <td>6.000000</td>\n",
       "      <td>6.000000</td>\n",
       "      <td>6.000000</td>\n",
       "      <td>6.000000</td>\n",
       "      <td>6.0</td>\n",
       "    </tr>\n",
       "    <tr>\n",
       "      <th>mean</th>\n",
       "      <td>1.833333</td>\n",
       "      <td>3.500000</td>\n",
       "      <td>1.000000</td>\n",
       "      <td>0.333333</td>\n",
       "      <td>0.166667</td>\n",
       "      <td>0.0</td>\n",
       "    </tr>\n",
       "    <tr>\n",
       "      <th>std</th>\n",
       "      <td>0.408248</td>\n",
       "      <td>1.516575</td>\n",
       "      <td>0.632456</td>\n",
       "      <td>0.816497</td>\n",
       "      <td>0.408248</td>\n",
       "      <td>0.0</td>\n",
       "    </tr>\n",
       "    <tr>\n",
       "      <th>min</th>\n",
       "      <td>1.000000</td>\n",
       "      <td>1.000000</td>\n",
       "      <td>0.000000</td>\n",
       "      <td>0.000000</td>\n",
       "      <td>0.000000</td>\n",
       "      <td>0.0</td>\n",
       "    </tr>\n",
       "    <tr>\n",
       "      <th>25%</th>\n",
       "      <td>2.000000</td>\n",
       "      <td>3.000000</td>\n",
       "      <td>1.000000</td>\n",
       "      <td>0.000000</td>\n",
       "      <td>0.000000</td>\n",
       "      <td>0.0</td>\n",
       "    </tr>\n",
       "    <tr>\n",
       "      <th>50%</th>\n",
       "      <td>2.000000</td>\n",
       "      <td>3.500000</td>\n",
       "      <td>1.000000</td>\n",
       "      <td>0.000000</td>\n",
       "      <td>0.000000</td>\n",
       "      <td>0.0</td>\n",
       "    </tr>\n",
       "    <tr>\n",
       "      <th>75%</th>\n",
       "      <td>2.000000</td>\n",
       "      <td>4.750000</td>\n",
       "      <td>1.000000</td>\n",
       "      <td>0.000000</td>\n",
       "      <td>0.000000</td>\n",
       "      <td>0.0</td>\n",
       "    </tr>\n",
       "    <tr>\n",
       "      <th>max</th>\n",
       "      <td>2.000000</td>\n",
       "      <td>5.000000</td>\n",
       "      <td>2.000000</td>\n",
       "      <td>2.000000</td>\n",
       "      <td>1.000000</td>\n",
       "      <td>0.0</td>\n",
       "    </tr>\n",
       "  </tbody>\n",
       "</table>\n",
       "</div>"
      ],
      "text/plain": [
       "        notout1   caught1   bowled1   runout1      lbw1  stumping1\n",
       "count  6.000000  6.000000  6.000000  6.000000  6.000000        6.0\n",
       "mean   1.833333  3.500000  1.000000  0.333333  0.166667        0.0\n",
       "std    0.408248  1.516575  0.632456  0.816497  0.408248        0.0\n",
       "min    1.000000  1.000000  0.000000  0.000000  0.000000        0.0\n",
       "25%    2.000000  3.000000  1.000000  0.000000  0.000000        0.0\n",
       "50%    2.000000  3.500000  1.000000  0.000000  0.000000        0.0\n",
       "75%    2.000000  4.750000  1.000000  0.000000  0.000000        0.0\n",
       "max    2.000000  5.000000  2.000000  2.000000  1.000000        0.0"
      ]
     },
     "execution_count": 27,
     "metadata": {},
     "output_type": "execute_result"
    }
   ],
   "source": [
    "df_out_team1.describe()"
   ]
  },
  {
   "cell_type": "code",
   "execution_count": 23,
   "id": "cc657a9b-c90c-4ca8-86dc-16c987ce1dc1",
   "metadata": {},
   "outputs": [
    {
     "data": {
      "text/html": [
       "<div>\n",
       "<style scoped>\n",
       "    .dataframe tbody tr th:only-of-type {\n",
       "        vertical-align: middle;\n",
       "    }\n",
       "\n",
       "    .dataframe tbody tr th {\n",
       "        vertical-align: top;\n",
       "    }\n",
       "\n",
       "    .dataframe thead th {\n",
       "        text-align: right;\n",
       "    }\n",
       "</style>\n",
       "<table border=\"1\" class=\"dataframe\">\n",
       "  <thead>\n",
       "    <tr style=\"text-align: right;\">\n",
       "      <th></th>\n",
       "      <th>Runs</th>\n",
       "      <th>Wicket</th>\n",
       "      <th>Zeros</th>\n",
       "      <th>fours</th>\n",
       "      <th>sixs</th>\n",
       "      <th>Wide</th>\n",
       "      <th>Noball</th>\n",
       "    </tr>\n",
       "  </thead>\n",
       "  <tbody>\n",
       "    <tr>\n",
       "      <th>count</th>\n",
       "      <td>6.000000</td>\n",
       "      <td>6.000000</td>\n",
       "      <td>6.000000</td>\n",
       "      <td>6.000000</td>\n",
       "      <td>6.000000</td>\n",
       "      <td>6.000000</td>\n",
       "      <td>6.000000</td>\n",
       "    </tr>\n",
       "    <tr>\n",
       "      <th>mean</th>\n",
       "      <td>174.500000</td>\n",
       "      <td>5.666667</td>\n",
       "      <td>41.166667</td>\n",
       "      <td>16.666667</td>\n",
       "      <td>7.333333</td>\n",
       "      <td>3.666667</td>\n",
       "      <td>0.833333</td>\n",
       "    </tr>\n",
       "    <tr>\n",
       "      <th>std</th>\n",
       "      <td>43.311661</td>\n",
       "      <td>2.250926</td>\n",
       "      <td>8.773065</td>\n",
       "      <td>3.011091</td>\n",
       "      <td>4.760952</td>\n",
       "      <td>2.338090</td>\n",
       "      <td>0.752773</td>\n",
       "    </tr>\n",
       "    <tr>\n",
       "      <th>min</th>\n",
       "      <td>118.000000</td>\n",
       "      <td>4.000000</td>\n",
       "      <td>30.000000</td>\n",
       "      <td>12.000000</td>\n",
       "      <td>0.000000</td>\n",
       "      <td>1.000000</td>\n",
       "      <td>0.000000</td>\n",
       "    </tr>\n",
       "    <tr>\n",
       "      <th>25%</th>\n",
       "      <td>141.000000</td>\n",
       "      <td>4.250000</td>\n",
       "      <td>35.000000</td>\n",
       "      <td>15.500000</td>\n",
       "      <td>4.750000</td>\n",
       "      <td>2.250000</td>\n",
       "      <td>0.250000</td>\n",
       "    </tr>\n",
       "    <tr>\n",
       "      <th>50%</th>\n",
       "      <td>188.000000</td>\n",
       "      <td>5.000000</td>\n",
       "      <td>40.500000</td>\n",
       "      <td>17.000000</td>\n",
       "      <td>8.000000</td>\n",
       "      <td>3.000000</td>\n",
       "      <td>1.000000</td>\n",
       "    </tr>\n",
       "    <tr>\n",
       "      <th>75%</th>\n",
       "      <td>196.750000</td>\n",
       "      <td>5.750000</td>\n",
       "      <td>48.250000</td>\n",
       "      <td>17.750000</td>\n",
       "      <td>10.500000</td>\n",
       "      <td>5.250000</td>\n",
       "      <td>1.000000</td>\n",
       "    </tr>\n",
       "    <tr>\n",
       "      <th>max</th>\n",
       "      <td>228.000000</td>\n",
       "      <td>10.000000</td>\n",
       "      <td>52.000000</td>\n",
       "      <td>21.000000</td>\n",
       "      <td>13.000000</td>\n",
       "      <td>7.000000</td>\n",
       "      <td>2.000000</td>\n",
       "    </tr>\n",
       "  </tbody>\n",
       "</table>\n",
       "</div>"
      ],
      "text/plain": [
       "             Runs     Wicket      Zeros      fours       sixs      Wide  \\\n",
       "count    6.000000   6.000000   6.000000   6.000000   6.000000  6.000000   \n",
       "mean   174.500000   5.666667  41.166667  16.666667   7.333333  3.666667   \n",
       "std     43.311661   2.250926   8.773065   3.011091   4.760952  2.338090   \n",
       "min    118.000000   4.000000  30.000000  12.000000   0.000000  1.000000   \n",
       "25%    141.000000   4.250000  35.000000  15.500000   4.750000  2.250000   \n",
       "50%    188.000000   5.000000  40.500000  17.000000   8.000000  3.000000   \n",
       "75%    196.750000   5.750000  48.250000  17.750000  10.500000  5.250000   \n",
       "max    228.000000  10.000000  52.000000  21.000000  13.000000  7.000000   \n",
       "\n",
       "         Noball  \n",
       "count  6.000000  \n",
       "mean   0.833333  \n",
       "std    0.752773  \n",
       "min    0.000000  \n",
       "25%    0.250000  \n",
       "50%    1.000000  \n",
       "75%    1.000000  \n",
       "max    2.000000  "
      ]
     },
     "execution_count": 23,
     "metadata": {},
     "output_type": "execute_result"
    }
   ],
   "source": [
    "total_bowl_team1.describe()"
   ]
  },
  {
   "cell_type": "code",
   "execution_count": 133,
   "id": "fca96fcb-bd2e-4fec-92fa-dac44e73d01a",
   "metadata": {},
   "outputs": [
    {
     "name": "stdout",
     "output_type": "stream",
     "text": [
      "95% confident (10.82789234874415, 15.505440984589182)\n",
      "99% confident (9.4981304925549, 16.835202840778432)\n"
     ]
    }
   ],
   "source": [
    "print('95% confident',st.t.interval(confidence = 0.95,df=len(data)-1, loc=np.mean(data), scale=st.sem(data)))\n",
    "print('99% confident',st.t.interval(confidence = 0.99,df=len(data)-1, loc=np.mean(data), scale=st.sem(data)))\n"
   ]
  },
  {
   "cell_type": "code",
   "execution_count": null,
   "id": "ea8bf0a4-3e34-4d6e-9ddb-633171749073",
   "metadata": {},
   "outputs": [],
   "source": []
  }
 ],
 "metadata": {
  "kernelspec": {
   "display_name": "Python 3 (ipykernel)",
   "language": "python",
   "name": "python3"
  },
  "language_info": {
   "codemirror_mode": {
    "name": "ipython",
    "version": 3
   },
   "file_extension": ".py",
   "mimetype": "text/x-python",
   "name": "python",
   "nbconvert_exporter": "python",
   "pygments_lexer": "ipython3",
   "version": "3.9.13"
  }
 },
 "nbformat": 4,
 "nbformat_minor": 5
}
